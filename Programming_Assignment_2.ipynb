{
 "cells": [
  {
   "cell_type": "code",
   "execution_count": 3,
   "id": "566779b2",
   "metadata": {},
   "outputs": [
    {
     "name": "stdout",
     "output_type": "stream",
     "text": [
      "Enter the value of kilometer 23.45\n",
      "14.57114995\n"
     ]
    }
   ],
   "source": [
    "# Q1.\tWrite a Python program to convert kilometers to miles?\n",
    "kilometers = float(input(\"Enter the value of kilometer \"))\n",
    "temp = 0.621371\n",
    "\n",
    "# Calculate miles\n",
    "miles = kilometers * temp\n",
    "print(miles)"
   ]
  },
  {
   "cell_type": "code",
   "execution_count": 5,
   "id": "5e7d8dbf",
   "metadata": {},
   "outputs": [
    {
     "name": "stdout",
     "output_type": "stream",
     "text": [
      "Enter the value of celsius 34\n",
      "93.2\n"
     ]
    }
   ],
   "source": [
    "# Q2.\tWrite a Python program to convert Celsius to Fahrenheit?\n",
    "celsius = float(input(\"Enter the value of celsius \"))\n",
    "           \n",
    "# Calculate Fahrenheit\n",
    "fahrenheit = (celsius * 9/5) + 32\n",
    "print(fahrenheit)"
   ]
  },
  {
   "cell_type": "code",
   "execution_count": 6,
   "id": "656fbdbd",
   "metadata": {},
   "outputs": [
    {
     "name": "stdout",
     "output_type": "stream",
     "text": [
      "Enter the year 2022\n",
      "Enter the month 9\n",
      "   September 2022\n",
      "Mo Tu We Th Fr Sa Su\n",
      "          1  2  3  4\n",
      " 5  6  7  8  9 10 11\n",
      "12 13 14 15 16 17 18\n",
      "19 20 21 22 23 24 25\n",
      "26 27 28 29 30\n",
      "\n"
     ]
    }
   ],
   "source": [
    "# Q3.\tWrite a Python program to display calendar?\n",
    "import calendar\n",
    "\n",
    "year = int(input(\"Enter the year \"))\n",
    "month = int(input(\"Enter the month \"))\n",
    "\n",
    "# Display the calendar\n",
    "print(calendar.month(year,month))"
   ]
  },
  {
   "cell_type": "code",
   "execution_count": 9,
   "id": "5c1c77a8",
   "metadata": {},
   "outputs": [
    {
     "name": "stdout",
     "output_type": "stream",
     "text": [
      "Enter the value of a 3\n",
      "Enter the value of b 8\n",
      "Enter the value of c 5\n",
      "(-1.6666666666666667+0j)\n",
      "(-1+0j)\n"
     ]
    }
   ],
   "source": [
    "# Q4.\tWrite a Python program to solve quadratic equation?\n",
    "\n",
    "# import complex math module\n",
    "import cmath\n",
    "\n",
    "a = int(input(\"Enter the value of a \"))\n",
    "b = int(input(\"Enter the value of b \"))\n",
    "c = int(input(\"Enter the value of c \"))\n",
    "\n",
    "# calculate the discriminant\n",
    "dis = (b**2) - (4*a*c)\n",
    "\n",
    "# find two result\n",
    "a1 = (-b-cmath.sqrt(dis))/(2*a)\n",
    "a2 = (-b+cmath.sqrt(dis))/(2*a)\n",
    "\n",
    "print(a1)\n",
    "print(a2)"
   ]
  },
  {
   "cell_type": "code",
   "execution_count": 10,
   "id": "d60db843",
   "metadata": {},
   "outputs": [
    {
     "name": "stdout",
     "output_type": "stream",
     "text": [
      "Enter the value of a 34\n",
      "Enter the value of b 12\n",
      "Before swapping\n",
      "Value of a: 34.0 value of b: 12.0\n",
      "After swapping\n",
      "Value of a: 12.0 value of b: 34.0\n"
     ]
    }
   ],
   "source": [
    "# Q5.\tWrite a Python program to swap two variables without temp variable?\n",
    "a = float(input(\"Enter the value of a \"))\n",
    "b = float(input(\"Enter the value of b \"))\n",
    "print(\"Before swapping\")\n",
    "print(\"Value of a:\",a,\"value of b:\",b)\n",
    "a,b = b,a\n",
    "print(\"After swapping\")\n",
    "print(\"Value of a:\", a, \"value of b:\",b)"
   ]
  },
  {
   "cell_type": "code",
   "execution_count": null,
   "id": "fc724cf2",
   "metadata": {},
   "outputs": [],
   "source": []
  }
 ],
 "metadata": {
  "kernelspec": {
   "display_name": "Python 3 (ipykernel)",
   "language": "python",
   "name": "python3"
  },
  "language_info": {
   "codemirror_mode": {
    "name": "ipython",
    "version": 3
   },
   "file_extension": ".py",
   "mimetype": "text/x-python",
   "name": "python",
   "nbconvert_exporter": "python",
   "pygments_lexer": "ipython3",
   "version": "3.9.7"
  }
 },
 "nbformat": 4,
 "nbformat_minor": 5
}
