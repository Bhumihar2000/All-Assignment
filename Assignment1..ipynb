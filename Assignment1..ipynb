{
 "cells": [
  {
   "cell_type": "code",
   "execution_count": 1,
   "id": "7842ee34",
   "metadata": {},
   "outputs": [],
   "source": [
    "lst = [1,2,34,56.7,\"Sachin\", 45+8j]"
   ]
  },
  {
   "cell_type": "code",
   "execution_count": 2,
   "id": "3d788d52",
   "metadata": {},
   "outputs": [
    {
     "data": {
      "text/plain": [
       "[1, 2, 34, 56.7, 'Sachin', (45+8j)]"
      ]
     },
     "execution_count": 2,
     "metadata": {},
     "output_type": "execute_result"
    }
   ],
   "source": [
    "lst"
   ]
  },
  {
   "cell_type": "code",
   "execution_count": 3,
   "id": "15791d81",
   "metadata": {},
   "outputs": [],
   "source": [
    "t1 = (1,2,3,56.7,\"Bhumihar\",23+8j)"
   ]
  },
  {
   "cell_type": "code",
   "execution_count": 4,
   "id": "6fe2748b",
   "metadata": {},
   "outputs": [
    {
     "data": {
      "text/plain": [
       "(1, 2, 3, 56.7, 'Bhumihar', (23+8j))"
      ]
     },
     "execution_count": 4,
     "metadata": {},
     "output_type": "execute_result"
    }
   ],
   "source": [
    "t1"
   ]
  },
  {
   "cell_type": "code",
   "execution_count": 5,
   "id": "13e3882c",
   "metadata": {},
   "outputs": [],
   "source": [
    "d1 = {\"name\" : \"Sachin\", \"Surname\": \"Bhumihar\"}"
   ]
  },
  {
   "cell_type": "code",
   "execution_count": 6,
   "id": "99388e6e",
   "metadata": {},
   "outputs": [
    {
     "data": {
      "text/plain": [
       "{'name': 'Sachin', 'Surname': 'Bhumihar'}"
      ]
     },
     "execution_count": 6,
     "metadata": {},
     "output_type": "execute_result"
    }
   ],
   "source": [
    "d1"
   ]
  },
  {
   "cell_type": "code",
   "execution_count": 7,
   "id": "cf1f3ccf",
   "metadata": {},
   "outputs": [
    {
     "data": {
      "text/plain": [
       "23"
      ]
     },
     "execution_count": 7,
     "metadata": {},
     "output_type": "execute_result"
    }
   ],
   "source": [
    "# Q.6 :\n",
    "bacon = 22\n",
    "bacon +1"
   ]
  },
  {
   "cell_type": "code",
   "execution_count": 8,
   "id": "9ccb78c0",
   "metadata": {},
   "outputs": [
    {
     "data": {
      "text/plain": [
       "'spamspamspam'"
      ]
     },
     "execution_count": 8,
     "metadata": {},
     "output_type": "execute_result"
    }
   ],
   "source": [
    "# Q.7\n",
    "'spam' + 'spamspam'"
   ]
  },
  {
   "cell_type": "code",
   "execution_count": 9,
   "id": "1ca054fe",
   "metadata": {},
   "outputs": [
    {
     "data": {
      "text/plain": [
       "'spamspamspam'"
      ]
     },
     "execution_count": 9,
     "metadata": {},
     "output_type": "execute_result"
    }
   ],
   "source": [
    "\"spam\"*3"
   ]
  },
  {
   "cell_type": "code",
   "execution_count": 10,
   "id": "e871359f",
   "metadata": {},
   "outputs": [],
   "source": [
    "# Q.8 \n",
    "eggs = \"Sachin\""
   ]
  },
  {
   "cell_type": "code",
   "execution_count": 11,
   "id": "a5cb9eee",
   "metadata": {},
   "outputs": [
    {
     "data": {
      "text/plain": [
       "'Sachin'"
      ]
     },
     "execution_count": 11,
     "metadata": {},
     "output_type": "execute_result"
    }
   ],
   "source": [
    "eggs"
   ]
  },
  {
   "cell_type": "code",
   "execution_count": 12,
   "id": "06f0b2c2",
   "metadata": {},
   "outputs": [
    {
     "ename": "SyntaxError",
     "evalue": "cannot assign to literal (Temp/ipykernel_14908/1276830203.py, line 1)",
     "output_type": "error",
     "traceback": [
      "\u001b[1;36m  File \u001b[1;32m\"C:\\Users\\TS-SAC~1.BHU\\AppData\\Local\\Temp/ipykernel_14908/1276830203.py\"\u001b[1;36m, line \u001b[1;32m1\u001b[0m\n\u001b[1;33m    100 = \"Sachin\"\u001b[0m\n\u001b[1;37m    ^\u001b[0m\n\u001b[1;31mSyntaxError\u001b[0m\u001b[1;31m:\u001b[0m cannot assign to literal\n"
     ]
    }
   ],
   "source": [
    "100 = \"Sachin\""
   ]
  },
  {
   "cell_type": "code",
   "execution_count": 13,
   "id": "9a9cdc4b",
   "metadata": {},
   "outputs": [
    {
     "data": {
      "text/plain": [
       "9"
      ]
     },
     "execution_count": 13,
     "metadata": {},
     "output_type": "execute_result"
    }
   ],
   "source": [
    "# Q.9 \n",
    "int(9)"
   ]
  },
  {
   "cell_type": "code",
   "execution_count": 14,
   "id": "d8505dd6",
   "metadata": {},
   "outputs": [
    {
     "data": {
      "text/plain": [
       "34.0"
      ]
     },
     "execution_count": 14,
     "metadata": {},
     "output_type": "execute_result"
    }
   ],
   "source": [
    "float(34)"
   ]
  },
  {
   "cell_type": "code",
   "execution_count": 16,
   "id": "e2e5bffc",
   "metadata": {},
   "outputs": [
    {
     "data": {
      "text/plain": [
       "'sachin'"
      ]
     },
     "execution_count": 16,
     "metadata": {},
     "output_type": "execute_result"
    }
   ],
   "source": [
    "str(\"sachin\")"
   ]
  },
  {
   "cell_type": "code",
   "execution_count": 20,
   "id": "29d0d2d4",
   "metadata": {},
   "outputs": [
    {
     "ename": "TypeError",
     "evalue": "can only concatenate str (not \"int\") to str",
     "output_type": "error",
     "traceback": [
      "\u001b[1;31m---------------------------------------------------------------------------\u001b[0m",
      "\u001b[1;31mTypeError\u001b[0m                                 Traceback (most recent call last)",
      "\u001b[1;32mC:\\Users\\TS-SAC~1.BHU\\AppData\\Local\\Temp/ipykernel_14908/2535247592.py\u001b[0m in \u001b[0;36m<module>\u001b[1;34m\u001b[0m\n\u001b[0;32m      1\u001b[0m \u001b[1;31m# Q.10\u001b[0m\u001b[1;33m\u001b[0m\u001b[1;33m\u001b[0m\u001b[0m\n\u001b[1;32m----> 2\u001b[1;33m \u001b[1;34m'I have eaten'\u001b[0m \u001b[1;33m+\u001b[0m  \u001b[1;36m99\u001b[0m \u001b[1;33m+\u001b[0m \u001b[1;34m' burritos.'\u001b[0m\u001b[1;33m\u001b[0m\u001b[1;33m\u001b[0m\u001b[0m\n\u001b[0m",
      "\u001b[1;31mTypeError\u001b[0m: can only concatenate str (not \"int\") to str"
     ]
    }
   ],
   "source": [
    "# Q.10\n",
    "'I have eaten' +  99 + ' burritos.'"
   ]
  },
  {
   "cell_type": "code",
   "execution_count": 21,
   "id": "8ad79989",
   "metadata": {},
   "outputs": [
    {
     "data": {
      "text/plain": [
       "'I have eaten 99 burritos.'"
      ]
     },
     "execution_count": 21,
     "metadata": {},
     "output_type": "execute_result"
    }
   ],
   "source": [
    "'I have eaten 99 burritos.'"
   ]
  },
  {
   "cell_type": "code",
   "execution_count": null,
   "id": "bf90f365",
   "metadata": {},
   "outputs": [],
   "source": []
  }
 ],
 "metadata": {
  "kernelspec": {
   "display_name": "Python 3 (ipykernel)",
   "language": "python",
   "name": "python3"
  },
  "language_info": {
   "codemirror_mode": {
    "name": "ipython",
    "version": 3
   },
   "file_extension": ".py",
   "mimetype": "text/x-python",
   "name": "python",
   "nbconvert_exporter": "python",
   "pygments_lexer": "ipython3",
   "version": "3.9.7"
  }
 },
 "nbformat": 4,
 "nbformat_minor": 5
}
