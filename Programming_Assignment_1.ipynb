{
 "cells": [
  {
   "cell_type": "code",
   "execution_count": 1,
   "id": "20645ba4",
   "metadata": {},
   "outputs": [
    {
     "name": "stdout",
     "output_type": "stream",
     "text": [
      "Hello Python\n"
     ]
    }
   ],
   "source": [
    "# Q1.\tWrite a Python program to print \"Hello Python\"?\n",
    "print(\"Hello Python\")"
   ]
  },
  {
   "cell_type": "code",
   "execution_count": 5,
   "id": "f9fa464b",
   "metadata": {},
   "outputs": [
    {
     "name": "stdout",
     "output_type": "stream",
     "text": [
      "Enter the first number 34\n",
      "Enter the second number 23\n",
      "57.0\n",
      "1.4782608695652173\n"
     ]
    }
   ],
   "source": [
    "# Q2.\tWrite a Python program to do arithmetical operations addition and division.?\n",
    "n1 = float(input(\"Enter the first number \"))\n",
    "n2 = float(input(\"Enter the second number \"))\n",
    "sum = n1+n2\n",
    "print(sum)\n",
    "div = n1/n2\n",
    "print(div)"
   ]
  },
  {
   "cell_type": "code",
   "execution_count": 6,
   "id": "d7b1893f",
   "metadata": {},
   "outputs": [
    {
     "name": "stdout",
     "output_type": "stream",
     "text": [
      "Enter the height of a tringle 34.4\n",
      "Enter the base of trigle 34.23\n",
      "588.756\n"
     ]
    }
   ],
   "source": [
    "# Q3.\tWrite a Python program to find the area of a triangle?\n",
    "h = float(input(\"Enter the height of a tringle \"))\n",
    "b = float(input(\"Enter the base of trigle \"))\n",
    "area = h*b/2\n",
    "print(area)"
   ]
  },
  {
   "cell_type": "code",
   "execution_count": 1,
   "id": "a8198342",
   "metadata": {},
   "outputs": [
    {
     "name": "stdout",
     "output_type": "stream",
     "text": [
      "Enter the first value 34\n",
      "Enter the second value 43\n",
      "The value of x after swaping is: 43\n",
      "The value of y after swaping is: 34\n"
     ]
    }
   ],
   "source": [
    "# Q4.\tWrite a Python program to swap two variables?\n",
    "x = int(input(\"Enter the first value \"))\n",
    "y = int(input(\"Enter the second value \"))\n",
    "temp = x\n",
    "x = y\n",
    "y = temp\n",
    "print(\"The value of x after swaping is: {}\".format(x))\n",
    "print(\"The value of y after swaping is: {}\".format(y))"
   ]
  },
  {
   "cell_type": "code",
   "execution_count": 6,
   "id": "19d70ac9",
   "metadata": {},
   "outputs": [
    {
     "name": "stdout",
     "output_type": "stream",
     "text": [
      "9\n"
     ]
    }
   ],
   "source": [
    "# Q5.\tWrite a Python program to generate a random number?\n",
    "import random as rn\n",
    "n = rn.randint(0,10)\n",
    "print(n)"
   ]
  },
  {
   "cell_type": "code",
   "execution_count": null,
   "id": "268d56f0",
   "metadata": {},
   "outputs": [],
   "source": []
  }
 ],
 "metadata": {
  "kernelspec": {
   "display_name": "Python 3 (ipykernel)",
   "language": "python",
   "name": "python3"
  },
  "language_info": {
   "codemirror_mode": {
    "name": "ipython",
    "version": 3
   },
   "file_extension": ".py",
   "mimetype": "text/x-python",
   "name": "python",
   "nbconvert_exporter": "python",
   "pygments_lexer": "ipython3",
   "version": "3.9.7"
  }
 },
 "nbformat": 4,
 "nbformat_minor": 5
}
