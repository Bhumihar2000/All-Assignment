{
 "cells": [
  {
   "cell_type": "markdown",
   "id": "8eb8ae1f",
   "metadata": {},
   "source": [
    "Q.1 => Create a list called years_list, starting with the year of your birth, and each year thereafter until the year of your fifth birthday. For example, if you were born in 1980. the list would be years_list = [1980, 1981, 1982, 1983, 1984, 1985]."
   ]
  },
  {
   "cell_type": "code",
   "execution_count": 3,
   "id": "3669bf99",
   "metadata": {},
   "outputs": [],
   "source": [
    "years_list = [2000, 2001, 2002, 2003, 2004,2005]"
   ]
  },
  {
   "cell_type": "code",
   "execution_count": 4,
   "id": "a842b145",
   "metadata": {},
   "outputs": [
    {
     "data": {
      "text/plain": [
       "[2000, 2001, 2002, 2003, 2004, 2005]"
      ]
     },
     "execution_count": 4,
     "metadata": {},
     "output_type": "execute_result"
    }
   ],
   "source": [
    "years_list"
   ]
  },
  {
   "cell_type": "markdown",
   "id": "6ef2eaf6",
   "metadata": {},
   "source": [
    "Q.2 => In which year in years_list was your third birthday? Remember, you were 0 years of age for your first year."
   ]
  },
  {
   "cell_type": "code",
   "execution_count": 5,
   "id": "6a31c5e8",
   "metadata": {},
   "outputs": [
    {
     "data": {
      "text/plain": [
       "2003"
      ]
     },
     "execution_count": 5,
     "metadata": {},
     "output_type": "execute_result"
    }
   ],
   "source": [
    "years_list[3]"
   ]
  },
  {
   "cell_type": "markdown",
   "id": "e5fd6857",
   "metadata": {},
   "source": [
    "Q.3 => In the years list, which year were you the oldest\n"
   ]
  },
  {
   "cell_type": "code",
   "execution_count": 6,
   "id": "c809f602",
   "metadata": {},
   "outputs": [
    {
     "data": {
      "text/plain": [
       "2005"
      ]
     },
     "execution_count": 6,
     "metadata": {},
     "output_type": "execute_result"
    }
   ],
   "source": [
    "years_list[5]"
   ]
  },
  {
   "cell_type": "markdown",
   "id": "12f1c08c",
   "metadata": {},
   "source": [
    "Q.4 => Make a list called things with these three strings as elements: \"mozzarella\", \"cinderella\", \"salmonella\"."
   ]
  },
  {
   "cell_type": "code",
   "execution_count": 7,
   "id": "be3d9a66",
   "metadata": {},
   "outputs": [],
   "source": [
    "things = [\"mozzarella\", \"cinderella\", \"salmonella\"]"
   ]
  },
  {
   "cell_type": "code",
   "execution_count": 8,
   "id": "b0d5126b",
   "metadata": {},
   "outputs": [
    {
     "data": {
      "text/plain": [
       "['mozzarella', 'cinderella', 'salmonella']"
      ]
     },
     "execution_count": 8,
     "metadata": {},
     "output_type": "execute_result"
    }
   ],
   "source": [
    "things"
   ]
  },
  {
   "cell_type": "markdown",
   "id": "43cead86",
   "metadata": {},
   "source": [
    "Q.5 => Capitalize the element in things that refers to a person and then print the list. Did it change the element in the list?"
   ]
  },
  {
   "cell_type": "code",
   "execution_count": 9,
   "id": "5d4d0efc",
   "metadata": {},
   "outputs": [
    {
     "data": {
      "text/plain": [
       "['mozzarella', 'cinderella', 'salmonella']"
      ]
     },
     "execution_count": 9,
     "metadata": {},
     "output_type": "execute_result"
    }
   ],
   "source": [
    "things"
   ]
  },
  {
   "cell_type": "markdown",
   "id": "e8bab601",
   "metadata": {},
   "source": [
    "Q.6 Make a surprise list with the elements \"Groucho,\" \"Chico,\" and \"Harpo.\""
   ]
  },
  {
   "cell_type": "code",
   "execution_count": 16,
   "id": "dcdfc75a",
   "metadata": {},
   "outputs": [],
   "source": [
    "surprise = [\"Groucho\", \"Chico\", \"Harpo\"]"
   ]
  },
  {
   "cell_type": "code",
   "execution_count": 17,
   "id": "11c41952",
   "metadata": {},
   "outputs": [
    {
     "data": {
      "text/plain": [
       "['Groucho', 'Chico', 'Harpo']"
      ]
     },
     "execution_count": 17,
     "metadata": {},
     "output_type": "execute_result"
    }
   ],
   "source": [
    "surprise"
   ]
  },
  {
   "cell_type": "markdown",
   "id": "b9ecc8a3",
   "metadata": {},
   "source": [
    "Q.7 => Lowercase the last element of the surprise list, reverse it, and then capitalize it."
   ]
  },
  {
   "cell_type": "code",
   "execution_count": 18,
   "id": "9f87ce2e",
   "metadata": {},
   "outputs": [
    {
     "data": {
      "text/plain": [
       "'Harpo'"
      ]
     },
     "execution_count": 18,
     "metadata": {},
     "output_type": "execute_result"
    }
   ],
   "source": [
    "surprise[2]"
   ]
  },
  {
   "cell_type": "code",
   "execution_count": 19,
   "id": "fc8dfa71",
   "metadata": {},
   "outputs": [
    {
     "data": {
      "text/plain": [
       "'harpo'"
      ]
     },
     "execution_count": 19,
     "metadata": {},
     "output_type": "execute_result"
    }
   ],
   "source": [
    "surprise[2].lower()"
   ]
  },
  {
   "cell_type": "code",
   "execution_count": 23,
   "id": "25b84da0",
   "metadata": {},
   "outputs": [
    {
     "data": {
      "text/plain": [
       "'opraH'"
      ]
     },
     "execution_count": 23,
     "metadata": {},
     "output_type": "execute_result"
    }
   ],
   "source": [
    "surprise[2][::-1]"
   ]
  },
  {
   "cell_type": "code",
   "execution_count": 25,
   "id": "2f7874d7",
   "metadata": {},
   "outputs": [
    {
     "data": {
      "text/plain": [
       "'Oprah'"
      ]
     },
     "execution_count": 25,
     "metadata": {},
     "output_type": "execute_result"
    }
   ],
   "source": [
    "surprise[2][::-1].capitalize()"
   ]
  },
  {
   "cell_type": "markdown",
   "id": "e5ee1c1f",
   "metadata": {},
   "source": [
    "Q.8 => Make an English-to-French dictionary called e2f and print it. Here are your starter words: dog is chien, cat is chat, and walrus is morse."
   ]
  },
  {
   "cell_type": "code",
   "execution_count": 26,
   "id": "f133d0e1",
   "metadata": {},
   "outputs": [],
   "source": [
    "e2f = {\"dog\" : \"chien\", \"cat\" : \"chat\", \"walrus\" : \"morse\"}"
   ]
  },
  {
   "cell_type": "code",
   "execution_count": 27,
   "id": "6e73c769",
   "metadata": {},
   "outputs": [
    {
     "data": {
      "text/plain": [
       "{'dog': 'chien', 'cat': 'chat', 'walrus': 'morse'}"
      ]
     },
     "execution_count": 27,
     "metadata": {},
     "output_type": "execute_result"
    }
   ],
   "source": [
    "e2f"
   ]
  },
  {
   "cell_type": "markdown",
   "id": "c74e44af",
   "metadata": {},
   "source": [
    "Q.9 => Write the French word for walrus in your three-word dictionary e2f."
   ]
  },
  {
   "cell_type": "code",
   "execution_count": 28,
   "id": "9dbbb5b0",
   "metadata": {},
   "outputs": [
    {
     "data": {
      "text/plain": [
       "'morse'"
      ]
     },
     "execution_count": 28,
     "metadata": {},
     "output_type": "execute_result"
    }
   ],
   "source": [
    "e2f[\"walrus\"]"
   ]
  },
  {
   "cell_type": "markdown",
   "id": "1b034e2c",
   "metadata": {},
   "source": [
    "Q.10 => Make a French-to-English dictionary called f2e from e2f. Use the items method."
   ]
  },
  {
   "cell_type": "code",
   "execution_count": 41,
   "id": "d34bf9f0",
   "metadata": {},
   "outputs": [],
   "source": [
    "f2e = dict((key, value) for value, key in e2f.items())"
   ]
  },
  {
   "cell_type": "code",
   "execution_count": 42,
   "id": "2e8d116b",
   "metadata": {},
   "outputs": [
    {
     "data": {
      "text/plain": [
       "{'chien': 'dog', 'chat': 'cat', 'morse': 'walrus'}"
      ]
     },
     "execution_count": 42,
     "metadata": {},
     "output_type": "execute_result"
    }
   ],
   "source": [
    "f2e"
   ]
  },
  {
   "cell_type": "markdown",
   "id": "c9a75485",
   "metadata": {},
   "source": [
    "Q.11 => Print the English version of the French word chien using f2e."
   ]
  },
  {
   "cell_type": "code",
   "execution_count": 45,
   "id": "596330b2",
   "metadata": {},
   "outputs": [
    {
     "data": {
      "text/plain": [
       "'dog'"
      ]
     },
     "execution_count": 45,
     "metadata": {},
     "output_type": "execute_result"
    }
   ],
   "source": [
    "f2e['chien']"
   ]
  },
  {
   "cell_type": "markdown",
   "id": "d269d586",
   "metadata": {},
   "source": [
    "Q.12 => Make and print a set of English words from the keys in e2f."
   ]
  },
  {
   "cell_type": "code",
   "execution_count": 47,
   "id": "10a2510a",
   "metadata": {},
   "outputs": [
    {
     "data": {
      "text/plain": [
       "dict_keys(['dog', 'cat', 'walrus'])"
      ]
     },
     "execution_count": 47,
     "metadata": {},
     "output_type": "execute_result"
    }
   ],
   "source": [
    "e2f.keys()"
   ]
  },
  {
   "cell_type": "markdown",
   "id": "d18aaafd",
   "metadata": {},
   "source": [
    "Q.13 => Make a multilevel dictionary called life. Use these strings for the topmost keys: 'animals', 'plants', and 'other'. Make the 'animals' key refer to another dictionary with the keys 'cats', 'octopi', and 'emus'. Make the 'cats' key refer to a list of strings with the values 'Henri', 'Grumpy', and 'Lucy'. Make all the other keys refer to empty dictionaries."
   ]
  },
  {
   "cell_type": "code",
   "execution_count": 48,
   "id": "c4f35568",
   "metadata": {},
   "outputs": [],
   "source": [
    "life = {'animal' : {'cats' : {'Henri', 'Grumpy', 'Lucy'}, 'octopi' : {}, 'emus' : {},} , 'plants' : {}, 'other': {},}"
   ]
  },
  {
   "cell_type": "code",
   "execution_count": 49,
   "id": "1a4c54ff",
   "metadata": {},
   "outputs": [
    {
     "data": {
      "text/plain": [
       "{'animal': {'cats': {'Grumpy', 'Henri', 'Lucy'}, 'octopi': {}, 'emus': {}},\n",
       " 'plants': {},\n",
       " 'other': {}}"
      ]
     },
     "execution_count": 49,
     "metadata": {},
     "output_type": "execute_result"
    }
   ],
   "source": [
    "life"
   ]
  },
  {
   "cell_type": "markdown",
   "id": "0e5d3097",
   "metadata": {},
   "source": [
    "Q.14 => Print the top-level keys of life."
   ]
  },
  {
   "cell_type": "code",
   "execution_count": 51,
   "id": "32a3312a",
   "metadata": {},
   "outputs": [
    {
     "data": {
      "text/plain": [
       "dict_keys(['animal', 'plants', 'other'])"
      ]
     },
     "execution_count": 51,
     "metadata": {},
     "output_type": "execute_result"
    }
   ],
   "source": [
    "life.keys()"
   ]
  },
  {
   "cell_type": "markdown",
   "id": "38e0d194",
   "metadata": {},
   "source": [
    "Q.15 => Print the keys for life['animals']."
   ]
  },
  {
   "cell_type": "code",
   "execution_count": 53,
   "id": "5cd25ecc",
   "metadata": {},
   "outputs": [
    {
     "data": {
      "text/plain": [
       "dict_keys(['cats', 'octopi', 'emus'])"
      ]
     },
     "execution_count": 53,
     "metadata": {},
     "output_type": "execute_result"
    }
   ],
   "source": [
    "life['animal'].keys()"
   ]
  },
  {
   "cell_type": "markdown",
   "id": "961abc70",
   "metadata": {},
   "source": [
    "Q.16 => Print the values for life['animals']['cats']"
   ]
  },
  {
   "cell_type": "code",
   "execution_count": 56,
   "id": "9beaaa04",
   "metadata": {},
   "outputs": [
    {
     "data": {
      "text/plain": [
       "{'Grumpy', 'Henri', 'Lucy'}"
      ]
     },
     "execution_count": 56,
     "metadata": {},
     "output_type": "execute_result"
    }
   ],
   "source": [
    "life['animal']['cats']"
   ]
  },
  {
   "cell_type": "code",
   "execution_count": null,
   "id": "b47e07b6",
   "metadata": {},
   "outputs": [],
   "source": []
  }
 ],
 "metadata": {
  "kernelspec": {
   "display_name": "Python 3 (ipykernel)",
   "language": "python",
   "name": "python3"
  },
  "language_info": {
   "codemirror_mode": {
    "name": "ipython",
    "version": 3
   },
   "file_extension": ".py",
   "mimetype": "text/x-python",
   "name": "python",
   "nbconvert_exporter": "python",
   "pygments_lexer": "ipython3",
   "version": "3.9.7"
  }
 },
 "nbformat": 4,
 "nbformat_minor": 5
}
