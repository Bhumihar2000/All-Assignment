{
 "cells": [
  {
   "cell_type": "code",
   "execution_count": 1,
   "id": "3566ca1a",
   "metadata": {},
   "outputs": [
    {
     "name": "stdout",
     "output_type": "stream",
     "text": [
      "Enter the value 4\n",
      "The Factorial of  4 is 24\n"
     ]
    }
   ],
   "source": [
    "# Q1.\tWrite a Python Program to Find the Factorial of a Number?\n",
    "n = int(input(\"Enter the value \"))\n",
    "fact = 1\n",
    "if n < 0:\n",
    "    print(\"factorial of 0 is not possible \")\n",
    "elif n == 0:\n",
    "    print(\"Fcatorial of 0 is 1\")\n",
    "else:\n",
    "    for i in range(1,n+1):\n",
    "        fact = fact*i\n",
    "    print(\"The Factorial of \",n,\"is\",fact)    "
   ]
  },
  {
   "cell_type": "code",
   "execution_count": 3,
   "id": "63326425",
   "metadata": {},
   "outputs": [
    {
     "name": "stdout",
     "output_type": "stream",
     "text": [
      "Enter the number 12\n",
      "12 x 1 = 12\n",
      "12 x 2 = 24\n",
      "12 x 3 = 36\n",
      "12 x 4 = 48\n",
      "12 x 5 = 60\n",
      "12 x 6 = 72\n",
      "12 x 7 = 84\n",
      "12 x 8 = 96\n",
      "12 x 9 = 108\n",
      "12 x 10 = 120\n"
     ]
    }
   ],
   "source": [
    "# Q2.\tWrite a Python Program to Display the multiplication Table?\n",
    "n = int(input(\"Enter the number \"))\n",
    "for i in range(1,11):\n",
    "    print(n, 'x', i, '=', n*i )\n",
    "    "
   ]
  },
  {
   "cell_type": "code",
   "execution_count": 12,
   "id": "011c61c5",
   "metadata": {},
   "outputs": [
    {
     "name": "stdout",
     "output_type": "stream",
     "text": [
      "How many sequence 7\n",
      "Fibonacci Sequence: \n",
      "0\n",
      "1\n",
      "1\n",
      "2\n",
      "3\n",
      "5\n",
      "8\n"
     ]
    }
   ],
   "source": [
    "# Q3.\tWrite a Python Program to Print the Fibonacci sequence?\n",
    "n = int(input(\"How many sequence \"))\n",
    "\n",
    "n1, n2 = 0,1\n",
    "count = 0\n",
    "\n",
    "if n<=0:\n",
    "    print(\"Incorrect input\")\n",
    "elif n==1:\n",
    "    print(\"The fibonacci sequence of number up to, \", n, \":\")\n",
    "    print(n1)\n",
    "\n",
    "else:\n",
    "    print(\"Fibonacci Sequence: \")\n",
    "    while count<n:\n",
    "        print(n1)\n",
    "        n3 = n1+n2\n",
    "        n1 = n2\n",
    "        n2 = n3\n",
    "        count = count+1"
   ]
  },
  {
   "cell_type": "code",
   "execution_count": 14,
   "id": "1b05ede5",
   "metadata": {},
   "outputs": [
    {
     "name": "stdout",
     "output_type": "stream",
     "text": [
      "Enter the number 23\n",
      "23 is not an Armstrong number\n"
     ]
    }
   ],
   "source": [
    "# Q4.\tWrite a Python Program to Check Armstrong Number?\n",
    "\n",
    "num = int(input(\"Enter the number \"))\n",
    "order = len(str(num))\n",
    "sum = 0\n",
    "temp = num\n",
    "while temp > 0:\n",
    "   digit = temp % 10\n",
    "   sum += digit ** order\n",
    "   temp //= 10\n",
    "\n",
    "# display the result\n",
    "if num == sum:\n",
    "   print(num,\"is an Armstrong number\")\n",
    "else:\n",
    "   print(num,\"is not an Armstrong number\")\n"
   ]
  },
  {
   "cell_type": "code",
   "execution_count": 18,
   "id": "6a61deaa",
   "metadata": {},
   "outputs": [
    {
     "name": "stdout",
     "output_type": "stream",
     "text": [
      "153\n"
     ]
    }
   ],
   "source": [
    "# Q5.\tWrite a Python Program to Find Armstrong Number in an Interval?\n",
    "l1 = 100\n",
    "u1 = 200\n",
    "for num in range(l1, u1+1):\n",
    "    order = len(str(num))\n",
    "    sum = 0\n",
    "    temp = num\n",
    "    while temp > 0:\n",
    "       digit = temp % 10\n",
    "       sum += digit ** order\n",
    "       temp //= 10\n",
    "\n",
    "\n",
    "    if num == sum:\n",
    "        print(num)"
   ]
  },
  {
   "cell_type": "code",
   "execution_count": 20,
   "id": "b96f91ba",
   "metadata": {},
   "outputs": [
    {
     "name": "stdout",
     "output_type": "stream",
     "text": [
      "Enter the natural number 455\n",
      "The sum is  103740\n"
     ]
    }
   ],
   "source": [
    "# Q6.\tWrite a Python Program to Find the Sum of Natural Numbers?\n",
    "n = int(input(\"Enter the natural number \"))\n",
    "if n<0:\n",
    "    print(\"Incorrect input\")\n",
    "else:\n",
    "    sum = 0\n",
    "    while(n>0):\n",
    "        sum = sum+n\n",
    "        n = n-1\n",
    "    print(\"The sum is \", sum)    "
   ]
  },
  {
   "cell_type": "code",
   "execution_count": null,
   "id": "1f01fde6",
   "metadata": {},
   "outputs": [],
   "source": []
  }
 ],
 "metadata": {
  "kernelspec": {
   "display_name": "Python 3 (ipykernel)",
   "language": "python",
   "name": "python3"
  },
  "language_info": {
   "codemirror_mode": {
    "name": "ipython",
    "version": 3
   },
   "file_extension": ".py",
   "mimetype": "text/x-python",
   "name": "python",
   "nbconvert_exporter": "python",
   "pygments_lexer": "ipython3",
   "version": "3.9.7"
  }
 },
 "nbformat": 4,
 "nbformat_minor": 5
}
