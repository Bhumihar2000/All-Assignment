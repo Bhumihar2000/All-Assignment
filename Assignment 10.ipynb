{
 "cells": [
  {
   "cell_type": "code",
   "execution_count": 1,
   "id": "de28f5f2",
   "metadata": {},
   "outputs": [],
   "source": [
    "# Q.10\n",
    "import os, shutil\n",
    "def movecopyfile(folder):\n",
    "    for folderName, subfolders,filenames in os.walk(folder):\n",
    "        for filename in filenames:\n",
    "            if filename.endswith('.jpg'):\n",
    "                shutil.copy(os.path.join(folderName, filename), '<destination>')"
   ]
  },
  {
   "cell_type": "code",
   "execution_count": 4,
   "id": "8188c815",
   "metadata": {},
   "outputs": [],
   "source": [
    "movecopyfile('thispc\\\\Pictures')"
   ]
  },
  {
   "cell_type": "code",
   "execution_count": null,
   "id": "0e0819ec",
   "metadata": {},
   "outputs": [],
   "source": []
  }
 ],
 "metadata": {
  "kernelspec": {
   "display_name": "Python 3 (ipykernel)",
   "language": "python",
   "name": "python3"
  },
  "language_info": {
   "codemirror_mode": {
    "name": "ipython",
    "version": 3
   },
   "file_extension": ".py",
   "mimetype": "text/x-python",
   "name": "python",
   "nbconvert_exporter": "python",
   "pygments_lexer": "ipython3",
   "version": "3.9.7"
  }
 },
 "nbformat": 4,
 "nbformat_minor": 5
}
